{
  "nbformat": 4,
  "nbformat_minor": 0,
  "metadata": {
    "colab": {
      "provenance": [],
      "include_colab_link": true
    },
    "kernelspec": {
      "name": "python3",
      "display_name": "Python 3"
    },
    "language_info": {
      "name": "python"
    }
  },
  "cells": [
    {
      "cell_type": "markdown",
      "metadata": {
        "id": "view-in-github",
        "colab_type": "text"
      },
      "source": [
        "<a href=\"https://colab.research.google.com/github/rdemarqui/studies/blob/master/Naive_Bayes.ipynb\" target=\"_parent\"><img src=\"https://colab.research.google.com/assets/colab-badge.svg\" alt=\"Open In Colab\"/></a>"
      ]
    },
    {
      "cell_type": "markdown",
      "source": [
        "## Naive Bayes"
      ],
      "metadata": {
        "id": "ua2CwLuxvmy1"
      }
    },
    {
      "cell_type": "markdown",
      "source": [
        "Example adapted from the excelent tutorial given by **Future Mojo** Channel. https://www.youtube.com/watch?v=FrWvpzoQBPQ"
      ],
      "metadata": {
        "id": "Ri_btzttvp-g"
      }
    },
    {
      "cell_type": "markdown",
      "source": [
        "### Conditional Probability"
      ],
      "metadata": {
        "id": "n75CJJn9wRDL"
      }
    },
    {
      "cell_type": "markdown",
      "source": [
        "$P(A \\cap B) = P(A) \\cdot P(B|A)$\n",
        "\n",
        "*Probability of A and B, it's equal to probability of A times probability of B given A*"
      ],
      "metadata": {
        "id": "dJzD5EjowUFi"
      }
    },
    {
      "cell_type": "markdown",
      "source": [
        "### Deriving Bayes Theorem"
      ],
      "metadata": {
        "id": "rSJ1wRaGxrv2"
      }
    },
    {
      "cell_type": "markdown",
      "source": [
        "*Given:*\n",
        "\n",
        "$P(A \\cap B) = P(A) \\cdot P(B|A)$\n",
        "\n",
        "$P(B \\cap A) = P(B) \\cdot P(A|B)$\n",
        "\n",
        "*and, according to commutativity of conjuntion:*\n",
        "\n",
        "$P(A \\cap B) = P(B \\cap A)$\n",
        "\n",
        "*so, replacing:*\n",
        "\n",
        "$P(B) \\cdot P(A|B) = P(A) \\cdot P(B|A)$\n",
        "\n",
        "*dividing both sides by P(B), we have Bayes Theorem:*\n",
        "\n",
        "$P(A|B) = \\frac {P(A) \\cdot P(B|A)} {P(B)}$\n"
      ],
      "metadata": {
        "id": "NoyY2HJtxym6"
      }
    },
    {
      "cell_type": "markdown",
      "source": [],
      "metadata": {
        "id": "230WT0ubxyqC"
      }
    },
    {
      "cell_type": "markdown",
      "source": [],
      "metadata": {
        "id": "fgZ4tjlBxytC"
      }
    },
    {
      "cell_type": "code",
      "execution_count": null,
      "metadata": {
        "id": "R6IYa07BRAkF"
      },
      "outputs": [],
      "source": []
    },
    {
      "cell_type": "code",
      "source": [],
      "metadata": {
        "id": "Wq8V_hNqvn4y"
      },
      "execution_count": null,
      "outputs": []
    }
  ]
}