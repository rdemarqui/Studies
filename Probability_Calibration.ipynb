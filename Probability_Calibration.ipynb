{
  "nbformat": 4,
  "nbformat_minor": 0,
  "metadata": {
    "colab": {
      "provenance": [],
      "toc_visible": true,
      "authorship_tag": "ABX9TyOr8FglIWM3rGX3Od14agzZ",
      "include_colab_link": true
    },
    "kernelspec": {
      "name": "python3",
      "display_name": "Python 3"
    },
    "language_info": {
      "name": "python"
    }
  },
  "cells": [
    {
      "cell_type": "markdown",
      "metadata": {
        "id": "view-in-github",
        "colab_type": "text"
      },
      "source": [
        "<a href=\"https://colab.research.google.com/github/rdemarqui/studies/blob/master/Probability_Calibration.ipynb\" target=\"_parent\"><img src=\"https://colab.research.google.com/assets/colab-badge.svg\" alt=\"Open In Colab\"/></a>"
      ]
    },
    {
      "cell_type": "markdown",
      "source": [
        "# Probability Calibration"
      ],
      "metadata": {
        "id": "x0KcHm_SCPOO"
      }
    },
    {
      "cell_type": "markdown",
      "source": [
        "## Introduction"
      ],
      "metadata": {
        "id": "Ql4zpQQsCRGo"
      }
    },
    {
      "cell_type": "markdown",
      "source": [
        "### Types of Prediction"
      ],
      "metadata": {
        "id": "ZQsh4YFqCV52"
      }
    },
    {
      "cell_type": "markdown",
      "source": [
        "* **\"Hard\" Prediction**: Predict the *exact* value of y given x.\n",
        "* **\"Ranking\" Prediction**: (binary classification) Provide a *score* for x, where higher score means it's more likely that y is true.\n",
        "* **\"Probabilistic\" Prediction**: predict the *probabilities* of y given x."
      ],
      "metadata": {
        "id": "yIBGZ_vTC7Wf"
      }
    },
    {
      "cell_type": "markdown",
      "source": [
        "### What is Calibration?"
      ],
      "metadata": {
        "id": "Fd_umdGwEypI"
      }
    },
    {
      "cell_type": "markdown",
      "source": [
        "* **Calibration**:\n",
        "  * Adjusting the predictions of a model so that they are **probabilistically meaningful**.\n",
        "* **Probabilistically Meaningful**:\n",
        "  * When predicting probability 0.3, in the long run, 30% of those events occur."
      ],
      "metadata": {
        "id": "LIQt7IxqE4cm"
      }
    },
    {
      "cell_type": "markdown",
      "source": [
        "## Implementation"
      ],
      "metadata": {
        "id": "pRvPgmPsRuMM"
      }
    },
    {
      "cell_type": "code",
      "source": [
        "!pip install ml_insights\n",
        "!pip betacal"
      ],
      "metadata": {
        "id": "iufyPpxAanDn"
      },
      "execution_count": null,
      "outputs": []
    },
    {
      "cell_type": "code",
      "source": [
        "import os\n",
        "import pandas as pd\n",
        "import matplotlib.pyplot as plt"
      ],
      "metadata": {
        "id": "_dpOvgkYRxoD"
      },
      "execution_count": 18,
      "outputs": []
    },
    {
      "cell_type": "code",
      "source": [
        "path = os.getcwd()"
      ],
      "metadata": {
        "id": "aE9RTPBGZjXN"
      },
      "execution_count": 6,
      "outputs": []
    },
    {
      "cell_type": "markdown",
      "source": [
        "### MIMIC ICU Data"
      ],
      "metadata": {
        "id": "t9KYOhRMj7tK"
      }
    },
    {
      "cell_type": "code",
      "source": [
        "# Downloading dataset from github\n",
        "!wget https://github.com/rdemarqui/studies/raw/master/dataset/lab_vital_icu_table.zip"
      ],
      "metadata": {
        "id": "0-uUdoKYRxrS"
      },
      "execution_count": null,
      "outputs": []
    },
    {
      "cell_type": "code",
      "source": [
        "lab_aug_df = pd.read_csv(os.path.join(path, 'lab_vital_icu_table.zip'),\n",
        "                  sep=',', compression='zip')\n",
        "lab_aug_df.head()"
      ],
      "metadata": {
        "colab": {
          "base_uri": "https://localhost:8080/",
          "height": 255
        },
        "id": "4Lki08WCRxuY",
        "outputId": "a59111f3-aa28-44ac-c7c9-3b37cb63270a"
      },
      "execution_count": 13,
      "outputs": [
        {
          "output_type": "execute_result",
          "data": {
            "text/plain": [
              "   subject_id  hadm_id  icustay_id  aniongap_min  aniongap_max  albumin_min  \\\n",
              "0           9   150750      220597          13.0          13.0          NaN   \n",
              "1          13   143045      263738          10.0          14.0          3.9   \n",
              "2          20   157681      264490          12.0          12.0          NaN   \n",
              "3          28   162569      225559          13.0          13.0          NaN   \n",
              "4          37   188670      213503           9.0          10.0          NaN   \n",
              "\n",
              "   albumin_max  bicarbonate_min  bicarbonate_max  bilirubin_min  ...  \\\n",
              "0          NaN             26.0             30.0            0.4  ...   \n",
              "1          3.9             23.0             24.0            0.4  ...   \n",
              "2          NaN             21.0             21.0            NaN  ...   \n",
              "3          NaN             23.0             23.0            NaN  ...   \n",
              "4          NaN             33.0             35.0            NaN  ...   \n",
              "\n",
              "   meanbp_mean  resprate_min  resprate_max  resprate_mean  tempc_min  \\\n",
              "0    98.850000          14.0          19.0      14.369565  35.500001   \n",
              "1    93.772727          11.0          25.0      15.320000  35.944443   \n",
              "2    75.058333          10.0          27.0      15.404762  35.900002   \n",
              "3    69.133333           9.0          32.0      16.677419  35.900002   \n",
              "4    73.297610          15.0          30.0      22.241379  36.833335   \n",
              "\n",
              "   tempc_max  tempc_mean  spo2_min  spo2_max  spo2_mean  \n",
              "0  37.888887   37.049383      95.0     100.0  97.650000  \n",
              "1  37.400002   36.653534      94.0     100.0  97.700000  \n",
              "2  37.299999   36.545714      95.0     100.0  98.435897  \n",
              "3  37.700001   37.033333      92.0     100.0  96.419355  \n",
              "4  38.055556   37.333334      89.0      99.0  96.533333  \n",
              "\n",
              "[5 rows x 79 columns]"
            ],
            "text/html": [
              "\n",
              "  <div id=\"df-e3edd033-b7ea-4ad8-98a2-e20b18e2ba92\" class=\"colab-df-container\">\n",
              "    <div>\n",
              "<style scoped>\n",
              "    .dataframe tbody tr th:only-of-type {\n",
              "        vertical-align: middle;\n",
              "    }\n",
              "\n",
              "    .dataframe tbody tr th {\n",
              "        vertical-align: top;\n",
              "    }\n",
              "\n",
              "    .dataframe thead th {\n",
              "        text-align: right;\n",
              "    }\n",
              "</style>\n",
              "<table border=\"1\" class=\"dataframe\">\n",
              "  <thead>\n",
              "    <tr style=\"text-align: right;\">\n",
              "      <th></th>\n",
              "      <th>subject_id</th>\n",
              "      <th>hadm_id</th>\n",
              "      <th>icustay_id</th>\n",
              "      <th>aniongap_min</th>\n",
              "      <th>aniongap_max</th>\n",
              "      <th>albumin_min</th>\n",
              "      <th>albumin_max</th>\n",
              "      <th>bicarbonate_min</th>\n",
              "      <th>bicarbonate_max</th>\n",
              "      <th>bilirubin_min</th>\n",
              "      <th>...</th>\n",
              "      <th>meanbp_mean</th>\n",
              "      <th>resprate_min</th>\n",
              "      <th>resprate_max</th>\n",
              "      <th>resprate_mean</th>\n",
              "      <th>tempc_min</th>\n",
              "      <th>tempc_max</th>\n",
              "      <th>tempc_mean</th>\n",
              "      <th>spo2_min</th>\n",
              "      <th>spo2_max</th>\n",
              "      <th>spo2_mean</th>\n",
              "    </tr>\n",
              "  </thead>\n",
              "  <tbody>\n",
              "    <tr>\n",
              "      <th>0</th>\n",
              "      <td>9</td>\n",
              "      <td>150750</td>\n",
              "      <td>220597</td>\n",
              "      <td>13.0</td>\n",
              "      <td>13.0</td>\n",
              "      <td>NaN</td>\n",
              "      <td>NaN</td>\n",
              "      <td>26.0</td>\n",
              "      <td>30.0</td>\n",
              "      <td>0.4</td>\n",
              "      <td>...</td>\n",
              "      <td>98.850000</td>\n",
              "      <td>14.0</td>\n",
              "      <td>19.0</td>\n",
              "      <td>14.369565</td>\n",
              "      <td>35.500001</td>\n",
              "      <td>37.888887</td>\n",
              "      <td>37.049383</td>\n",
              "      <td>95.0</td>\n",
              "      <td>100.0</td>\n",
              "      <td>97.650000</td>\n",
              "    </tr>\n",
              "    <tr>\n",
              "      <th>1</th>\n",
              "      <td>13</td>\n",
              "      <td>143045</td>\n",
              "      <td>263738</td>\n",
              "      <td>10.0</td>\n",
              "      <td>14.0</td>\n",
              "      <td>3.9</td>\n",
              "      <td>3.9</td>\n",
              "      <td>23.0</td>\n",
              "      <td>24.0</td>\n",
              "      <td>0.4</td>\n",
              "      <td>...</td>\n",
              "      <td>93.772727</td>\n",
              "      <td>11.0</td>\n",
              "      <td>25.0</td>\n",
              "      <td>15.320000</td>\n",
              "      <td>35.944443</td>\n",
              "      <td>37.400002</td>\n",
              "      <td>36.653534</td>\n",
              "      <td>94.0</td>\n",
              "      <td>100.0</td>\n",
              "      <td>97.700000</td>\n",
              "    </tr>\n",
              "    <tr>\n",
              "      <th>2</th>\n",
              "      <td>20</td>\n",
              "      <td>157681</td>\n",
              "      <td>264490</td>\n",
              "      <td>12.0</td>\n",
              "      <td>12.0</td>\n",
              "      <td>NaN</td>\n",
              "      <td>NaN</td>\n",
              "      <td>21.0</td>\n",
              "      <td>21.0</td>\n",
              "      <td>NaN</td>\n",
              "      <td>...</td>\n",
              "      <td>75.058333</td>\n",
              "      <td>10.0</td>\n",
              "      <td>27.0</td>\n",
              "      <td>15.404762</td>\n",
              "      <td>35.900002</td>\n",
              "      <td>37.299999</td>\n",
              "      <td>36.545714</td>\n",
              "      <td>95.0</td>\n",
              "      <td>100.0</td>\n",
              "      <td>98.435897</td>\n",
              "    </tr>\n",
              "    <tr>\n",
              "      <th>3</th>\n",
              "      <td>28</td>\n",
              "      <td>162569</td>\n",
              "      <td>225559</td>\n",
              "      <td>13.0</td>\n",
              "      <td>13.0</td>\n",
              "      <td>NaN</td>\n",
              "      <td>NaN</td>\n",
              "      <td>23.0</td>\n",
              "      <td>23.0</td>\n",
              "      <td>NaN</td>\n",
              "      <td>...</td>\n",
              "      <td>69.133333</td>\n",
              "      <td>9.0</td>\n",
              "      <td>32.0</td>\n",
              "      <td>16.677419</td>\n",
              "      <td>35.900002</td>\n",
              "      <td>37.700001</td>\n",
              "      <td>37.033333</td>\n",
              "      <td>92.0</td>\n",
              "      <td>100.0</td>\n",
              "      <td>96.419355</td>\n",
              "    </tr>\n",
              "    <tr>\n",
              "      <th>4</th>\n",
              "      <td>37</td>\n",
              "      <td>188670</td>\n",
              "      <td>213503</td>\n",
              "      <td>9.0</td>\n",
              "      <td>10.0</td>\n",
              "      <td>NaN</td>\n",
              "      <td>NaN</td>\n",
              "      <td>33.0</td>\n",
              "      <td>35.0</td>\n",
              "      <td>NaN</td>\n",
              "      <td>...</td>\n",
              "      <td>73.297610</td>\n",
              "      <td>15.0</td>\n",
              "      <td>30.0</td>\n",
              "      <td>22.241379</td>\n",
              "      <td>36.833335</td>\n",
              "      <td>38.055556</td>\n",
              "      <td>37.333334</td>\n",
              "      <td>89.0</td>\n",
              "      <td>99.0</td>\n",
              "      <td>96.533333</td>\n",
              "    </tr>\n",
              "  </tbody>\n",
              "</table>\n",
              "<p>5 rows × 79 columns</p>\n",
              "</div>\n",
              "    <div class=\"colab-df-buttons\">\n",
              "\n",
              "  <div class=\"colab-df-container\">\n",
              "    <button class=\"colab-df-convert\" onclick=\"convertToInteractive('df-e3edd033-b7ea-4ad8-98a2-e20b18e2ba92')\"\n",
              "            title=\"Convert this dataframe to an interactive table.\"\n",
              "            style=\"display:none;\">\n",
              "\n",
              "  <svg xmlns=\"http://www.w3.org/2000/svg\" height=\"24px\" viewBox=\"0 -960 960 960\">\n",
              "    <path d=\"M120-120v-720h720v720H120Zm60-500h600v-160H180v160Zm220 220h160v-160H400v160Zm0 220h160v-160H400v160ZM180-400h160v-160H180v160Zm440 0h160v-160H620v160ZM180-180h160v-160H180v160Zm440 0h160v-160H620v160Z\"/>\n",
              "  </svg>\n",
              "    </button>\n",
              "\n",
              "  <style>\n",
              "    .colab-df-container {\n",
              "      display:flex;\n",
              "      gap: 12px;\n",
              "    }\n",
              "\n",
              "    .colab-df-convert {\n",
              "      background-color: #E8F0FE;\n",
              "      border: none;\n",
              "      border-radius: 50%;\n",
              "      cursor: pointer;\n",
              "      display: none;\n",
              "      fill: #1967D2;\n",
              "      height: 32px;\n",
              "      padding: 0 0 0 0;\n",
              "      width: 32px;\n",
              "    }\n",
              "\n",
              "    .colab-df-convert:hover {\n",
              "      background-color: #E2EBFA;\n",
              "      box-shadow: 0px 1px 2px rgba(60, 64, 67, 0.3), 0px 1px 3px 1px rgba(60, 64, 67, 0.15);\n",
              "      fill: #174EA6;\n",
              "    }\n",
              "\n",
              "    .colab-df-buttons div {\n",
              "      margin-bottom: 4px;\n",
              "    }\n",
              "\n",
              "    [theme=dark] .colab-df-convert {\n",
              "      background-color: #3B4455;\n",
              "      fill: #D2E3FC;\n",
              "    }\n",
              "\n",
              "    [theme=dark] .colab-df-convert:hover {\n",
              "      background-color: #434B5C;\n",
              "      box-shadow: 0px 1px 3px 1px rgba(0, 0, 0, 0.15);\n",
              "      filter: drop-shadow(0px 1px 2px rgba(0, 0, 0, 0.3));\n",
              "      fill: #FFFFFF;\n",
              "    }\n",
              "  </style>\n",
              "\n",
              "    <script>\n",
              "      const buttonEl =\n",
              "        document.querySelector('#df-e3edd033-b7ea-4ad8-98a2-e20b18e2ba92 button.colab-df-convert');\n",
              "      buttonEl.style.display =\n",
              "        google.colab.kernel.accessAllowed ? 'block' : 'none';\n",
              "\n",
              "      async function convertToInteractive(key) {\n",
              "        const element = document.querySelector('#df-e3edd033-b7ea-4ad8-98a2-e20b18e2ba92');\n",
              "        const dataTable =\n",
              "          await google.colab.kernel.invokeFunction('convertToInteractive',\n",
              "                                                    [key], {});\n",
              "        if (!dataTable) return;\n",
              "\n",
              "        const docLinkHtml = 'Like what you see? Visit the ' +\n",
              "          '<a target=\"_blank\" href=https://colab.research.google.com/notebooks/data_table.ipynb>data table notebook</a>'\n",
              "          + ' to learn more about interactive tables.';\n",
              "        element.innerHTML = '';\n",
              "        dataTable['output_type'] = 'display_data';\n",
              "        await google.colab.output.renderOutput(dataTable, element);\n",
              "        const docLink = document.createElement('div');\n",
              "        docLink.innerHTML = docLinkHtml;\n",
              "        element.appendChild(docLink);\n",
              "      }\n",
              "    </script>\n",
              "  </div>\n",
              "\n",
              "\n",
              "<div id=\"df-ae80ba1d-f1c7-44e2-80ad-a5f4883e2129\">\n",
              "  <button class=\"colab-df-quickchart\" onclick=\"quickchart('df-ae80ba1d-f1c7-44e2-80ad-a5f4883e2129')\"\n",
              "            title=\"Suggest charts.\"\n",
              "            style=\"display:none;\">\n",
              "\n",
              "<svg xmlns=\"http://www.w3.org/2000/svg\" height=\"24px\"viewBox=\"0 0 24 24\"\n",
              "     width=\"24px\">\n",
              "    <g>\n",
              "        <path d=\"M19 3H5c-1.1 0-2 .9-2 2v14c0 1.1.9 2 2 2h14c1.1 0 2-.9 2-2V5c0-1.1-.9-2-2-2zM9 17H7v-7h2v7zm4 0h-2V7h2v10zm4 0h-2v-4h2v4z\"/>\n",
              "    </g>\n",
              "</svg>\n",
              "  </button>\n",
              "\n",
              "<style>\n",
              "  .colab-df-quickchart {\n",
              "      --bg-color: #E8F0FE;\n",
              "      --fill-color: #1967D2;\n",
              "      --hover-bg-color: #E2EBFA;\n",
              "      --hover-fill-color: #174EA6;\n",
              "      --disabled-fill-color: #AAA;\n",
              "      --disabled-bg-color: #DDD;\n",
              "  }\n",
              "\n",
              "  [theme=dark] .colab-df-quickchart {\n",
              "      --bg-color: #3B4455;\n",
              "      --fill-color: #D2E3FC;\n",
              "      --hover-bg-color: #434B5C;\n",
              "      --hover-fill-color: #FFFFFF;\n",
              "      --disabled-bg-color: #3B4455;\n",
              "      --disabled-fill-color: #666;\n",
              "  }\n",
              "\n",
              "  .colab-df-quickchart {\n",
              "    background-color: var(--bg-color);\n",
              "    border: none;\n",
              "    border-radius: 50%;\n",
              "    cursor: pointer;\n",
              "    display: none;\n",
              "    fill: var(--fill-color);\n",
              "    height: 32px;\n",
              "    padding: 0;\n",
              "    width: 32px;\n",
              "  }\n",
              "\n",
              "  .colab-df-quickchart:hover {\n",
              "    background-color: var(--hover-bg-color);\n",
              "    box-shadow: 0 1px 2px rgba(60, 64, 67, 0.3), 0 1px 3px 1px rgba(60, 64, 67, 0.15);\n",
              "    fill: var(--button-hover-fill-color);\n",
              "  }\n",
              "\n",
              "  .colab-df-quickchart-complete:disabled,\n",
              "  .colab-df-quickchart-complete:disabled:hover {\n",
              "    background-color: var(--disabled-bg-color);\n",
              "    fill: var(--disabled-fill-color);\n",
              "    box-shadow: none;\n",
              "  }\n",
              "\n",
              "  .colab-df-spinner {\n",
              "    border: 2px solid var(--fill-color);\n",
              "    border-color: transparent;\n",
              "    border-bottom-color: var(--fill-color);\n",
              "    animation:\n",
              "      spin 1s steps(1) infinite;\n",
              "  }\n",
              "\n",
              "  @keyframes spin {\n",
              "    0% {\n",
              "      border-color: transparent;\n",
              "      border-bottom-color: var(--fill-color);\n",
              "      border-left-color: var(--fill-color);\n",
              "    }\n",
              "    20% {\n",
              "      border-color: transparent;\n",
              "      border-left-color: var(--fill-color);\n",
              "      border-top-color: var(--fill-color);\n",
              "    }\n",
              "    30% {\n",
              "      border-color: transparent;\n",
              "      border-left-color: var(--fill-color);\n",
              "      border-top-color: var(--fill-color);\n",
              "      border-right-color: var(--fill-color);\n",
              "    }\n",
              "    40% {\n",
              "      border-color: transparent;\n",
              "      border-right-color: var(--fill-color);\n",
              "      border-top-color: var(--fill-color);\n",
              "    }\n",
              "    60% {\n",
              "      border-color: transparent;\n",
              "      border-right-color: var(--fill-color);\n",
              "    }\n",
              "    80% {\n",
              "      border-color: transparent;\n",
              "      border-right-color: var(--fill-color);\n",
              "      border-bottom-color: var(--fill-color);\n",
              "    }\n",
              "    90% {\n",
              "      border-color: transparent;\n",
              "      border-bottom-color: var(--fill-color);\n",
              "    }\n",
              "  }\n",
              "</style>\n",
              "\n",
              "  <script>\n",
              "    async function quickchart(key) {\n",
              "      const quickchartButtonEl =\n",
              "        document.querySelector('#' + key + ' button');\n",
              "      quickchartButtonEl.disabled = true;  // To prevent multiple clicks.\n",
              "      quickchartButtonEl.classList.add('colab-df-spinner');\n",
              "      try {\n",
              "        const charts = await google.colab.kernel.invokeFunction(\n",
              "            'suggestCharts', [key], {});\n",
              "      } catch (error) {\n",
              "        console.error('Error during call to suggestCharts:', error);\n",
              "      }\n",
              "      quickchartButtonEl.classList.remove('colab-df-spinner');\n",
              "      quickchartButtonEl.classList.add('colab-df-quickchart-complete');\n",
              "    }\n",
              "    (() => {\n",
              "      let quickchartButtonEl =\n",
              "        document.querySelector('#df-ae80ba1d-f1c7-44e2-80ad-a5f4883e2129 button');\n",
              "      quickchartButtonEl.style.display =\n",
              "        google.colab.kernel.accessAllowed ? 'block' : 'none';\n",
              "    })();\n",
              "  </script>\n",
              "</div>\n",
              "    </div>\n",
              "  </div>\n"
            ]
          },
          "metadata": {},
          "execution_count": 13
        }
      ]
    },
    {
      "cell_type": "code",
      "source": [
        "def null_chart(dataframe):\n",
        "  \"\"\"\n",
        "    Function to generate a chart with percentages of null values per feature\n",
        "  \"\"\"\n",
        "  print(f'Total null values: {dataframe.isnull().sum().sum()}')\n",
        "  null_cols = dataframe.columns[dataframe.isnull().any()]\n",
        "  dataframe[null_cols].isnull().mean().plot.bar(figsize=(25,6))\n",
        "  plt.ylabel('Null values percent')\n",
        "  plt.xlabel('Features')\n",
        "  plt.title('Quantifying null values');"
      ],
      "metadata": {
        "id": "7EoVfIf5fprq"
      },
      "execution_count": 19,
      "outputs": []
    },
    {
      "cell_type": "code",
      "source": [
        "null_chart(lab_aug_df)"
      ],
      "metadata": {
        "colab": {
          "base_uri": "https://localhost:8080/",
          "height": 397
        },
        "id": "4Rf_WqTdgRb4",
        "outputId": "7d5ec279-29b9-49fe-bc97-188c422f6d24"
      },
      "execution_count": 20,
      "outputs": [
        {
          "output_type": "stream",
          "name": "stdout",
          "text": [
            "Total null values: 540340\n"
          ]
        },
        {
          "output_type": "display_data",
          "data": {
            "text/plain": [
              "<Figure size 2500x600 with 1 Axes>"
            ],
            "image/png": "[encoded data removed]"
          },
          "metadata": {}
        }
      ]
    },
    {
      "cell_type": "code",
      "source": [
        "# Impute the median for in each column to replace NA's\n",
        "for i in range(len(lab_aug_df.columns)):\n",
        "    if lab_aug_df.iloc[:,i].dtype!='O':\n",
        "        lab_aug_df.iloc[:,i].fillna(lab_aug_df.iloc[:,i].median(),inplace=True)"
      ],
      "metadata": {
        "id": "cViDK7sQRxxm"
      },
      "execution_count": null,
      "outputs": []
    },
    {
      "cell_type": "code",
      "source": [],
      "metadata": {
        "id": "J2PvIcrVRx00"
      },
      "execution_count": null,
      "outputs": []
    },
    {
      "cell_type": "markdown",
      "source": [
        "## References"
      ],
      "metadata": {
        "id": "9TxaZFX2CaE-"
      }
    },
    {
      "cell_type": "markdown",
      "source": [
        "* Probability Calibration Workshop: https://www.youtube.com/playlist?list=PLeVfk5xTWHYBw22D52etymvcpxey4QFIk\n",
        "* Probability Calibration - Data Science Concepts: https://www.youtube.com/watch?v=AunotauS5yI\n",
        "* Model Calibration - is your model ready for the real world? https://www.youtube.com/watch?v=FkfDlOnQVvQ\n",
        "* https://www.youtube.com/watch?v=XGlUFE8UMB4\n",
        "* https://www.youtube.com/watch?v=5zbV24vyO44\n",
        "* https://machinelearningmastery.com/probability-calibration-for-imbalanced-classification/"
      ],
      "metadata": {
        "id": "Ha0p4pqaCcW2"
      }
    },
    {
      "cell_type": "code",
      "source": [],
      "metadata": {
        "id": "GHxMGGh3QRl-"
      },
      "execution_count": null,
      "outputs": []
    }
  ]
}