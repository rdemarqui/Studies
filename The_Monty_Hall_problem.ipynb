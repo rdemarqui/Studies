{
  "nbformat": 4,
  "nbformat_minor": 0,
  "metadata": {
    "colab": {
      "provenance": [],
      "authorship_tag": "ABX9TyMUC1eAkD5I8DOA2omJjQTK",
      "include_colab_link": true
    },
    "kernelspec": {
      "name": "python3",
      "display_name": "Python 3"
    },
    "language_info": {
      "name": "python"
    }
  },
  "cells": [
    {
      "cell_type": "markdown",
      "metadata": {
        "id": "view-in-github",
        "colab_type": "text"
      },
      "source": [
        "<a href=\"https://colab.research.google.com/github/rdemarqui/Estudos/blob/master/The_Monty_Hall_problem.ipynb\" target=\"_parent\"><img src=\"https://colab.research.google.com/assets/colab-badge.svg\" alt=\"Open In Colab\"/></a>"
      ]
    },
    {
      "cell_type": "markdown",
      "source": [
        "# The Monty Hall problem"
      ],
      "metadata": {
        "id": "T8-d7kDXablK"
      }
    },
    {
      "cell_type": "code",
      "source": [
        "import random\n",
        "\n",
        "def choose_type(change='y'):\n",
        "  doors = [1, 2, 3]\n",
        "  win_door = random.choice(doors)\n",
        "  choosen_door = random.choice(doors)\n",
        "\n",
        "  print(f'Win door: {win_door}, door choosed: {choosen_door}')\n",
        "\n",
        "  eliminate_door = doors.copy()\n",
        "  eliminate_door.remove(choosen_door)\n",
        "\n",
        "  if choosen_door != win_door:\n",
        "    eliminate_door.remove(win_door)\n",
        "    eliminate_door = eliminate_door[0]\n",
        "  else:\n",
        "    eliminate_door = random.choice(eliminate_door)\n",
        "\n",
        "  eliminate_door = eliminate_door\n",
        "  print(f'Eliminated door: {eliminate_door}')\n",
        "\n",
        "  if change.upper() == 'Y':\n",
        "    new_door = doors.copy()\n",
        "    new_door.remove(choosen_door)\n",
        "    new_door.remove(eliminate_door)\n",
        "    choosen_door = new_door[0]\n",
        "    print(f'Changed for: {choosen_door}\\n')\n",
        "  else:\n",
        "    print(f'Mantained door: {choosen_door}\\n')\n",
        "  \n",
        "  if choosen_door == win_door:\n",
        "    return 1\n",
        "  else:\n",
        "    return 0"
      ],
      "metadata": {
        "id": "dTqj3EQ0awo3"
      },
      "execution_count": 121,
      "outputs": []
    },
    {
      "cell_type": "code",
      "source": [
        "# Checking probabilites\n",
        "wins = 0\n",
        "tentatives = 1000\n",
        "for i in list(range(0, tentatives)):\n",
        "  tentative = choose_type(change='n')        # <- Switch to y to choose rounds with port swap\n",
        "  wins += tentative\n",
        "\n",
        "print(f'Results - Tentatives: {tentatives}, wins: {wins}, odds: {wins/tentatives}')"
      ],
      "metadata": {
        "id": "-h9RXBgBiST7"
      },
      "execution_count": null,
      "outputs": []
    }
  ]
}