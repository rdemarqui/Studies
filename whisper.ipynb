{
  "nbformat": 4,
  "nbformat_minor": 0,
  "metadata": {
    "colab": {
      "provenance": [],
      "gpuType": "T4",
      "include_colab_link": true
    },
    "kernelspec": {
      "name": "python3",
      "display_name": "Python 3"
    },
    "language_info": {
      "name": "python"
    },
    "accelerator": "GPU"
  },
  "cells": [
    {
      "cell_type": "markdown",
      "metadata": {
        "id": "view-in-github",
        "colab_type": "text"
      },
      "source": [
        "<a href=\"https://colab.research.google.com/github/rdemarqui/studies/blob/master/whisper.ipynb\" target=\"_parent\"><img src=\"https://colab.research.google.com/assets/colab-badge.svg\" alt=\"Open In Colab\"/></a>"
      ]
    },
    {
      "cell_type": "markdown",
      "source": [
        "* https://github.com/openai/whisper/discussions/categories/show-and-tell\n",
        "* https://github.com/m-bain/whisperX"
      ],
      "metadata": {
        "id": "loxw1f9grJoI"
      }
    },
    {
      "cell_type": "code",
      "source": [
        "#!pip install -q openai-whisper\n",
        "!pip install -q git+https://github.com/openai/whisper.git"
      ],
      "metadata": {
        "id": "285LFBashiRA"
      },
      "execution_count": null,
      "outputs": []
    },
    {
      "cell_type": "code",
      "source": [
        "import whisper, time"
      ],
      "metadata": {
        "id": "7x2o-FnqibPh"
      },
      "execution_count": 2,
      "outputs": []
    },
    {
      "cell_type": "code",
      "source": [
        "model = whisper.load_model(\"large-v2\")"
      ],
      "metadata": {
        "id": "HC2ofgoXidNP",
        "outputId": "bb40fad2-5348-4d2a-f537-8ff8a592d940",
        "colab": {
          "base_uri": "https://localhost:8080/"
        }
      },
      "execution_count": 3,
      "outputs": [
        {
          "output_type": "stream",
          "name": "stderr",
          "text": [
            "100%|█████████████████████████████████████| 2.87G/2.87G [00:41<00:00, 74.3MiB/s]\n"
          ]
        }
      ]
    },
    {
      "cell_type": "code",
      "source": [
        "audio = '/content/chamado_03.wav'"
      ],
      "metadata": {
        "id": "pDwz829azUO6"
      },
      "execution_count": 9,
      "outputs": []
    },
    {
      "cell_type": "code",
      "source": [
        "start_time = time.time()\n",
        "result = model.transcribe(audio=audio)\n",
        "end_time = time.time()\n",
        "execution_time = end_time - start_time\n",
        "print(execution_time)"
      ],
      "metadata": {
        "id": "cH5HooWYifuB"
      },
      "execution_count": null,
      "outputs": []
    },
    {
      "cell_type": "code",
      "source": [
        "# Printing transcription\n",
        "for segment in result['segments']:\n",
        "  timestamp = time.strftime('%H:%M:%S', time.gmtime(segment['start']))\n",
        "  print(timestamp, segment['text'])"
      ],
      "metadata": {
        "id": "93HPs1XZlDtO"
      },
      "execution_count": null,
      "outputs": []
    }
  ]
}